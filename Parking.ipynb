{
 "cells": [
  {
   "cell_type": "markdown",
   "id": "e44c1b3c",
   "metadata": {},
   "source": [
    "#### Tools For Analytics\n",
    "#### Parking\n",
    "#### Group 9: Linzi GuaN(lg3183)   Yuwen Huang(yh3413)"
   ]
  },
  {
   "cell_type": "code",
   "execution_count": 1,
   "id": "b3b46bc8",
   "metadata": {},
   "outputs": [],
   "source": [
    "import pandas as pd\n",
    "import numpy as np"
   ]
  },
  {
   "cell_type": "markdown",
   "id": "06577e2f",
   "metadata": {},
   "source": [
    "#### Creat two dataframes, one for general, and another for zip code = 10025"
   ]
  },
  {
   "cell_type": "code",
   "execution_count": 2,
   "id": "613fa3ea",
   "metadata": {},
   "outputs": [
    {
     "name": "stderr",
     "output_type": "stream",
     "text": [
      "/Users/huangyuwen/opt/anaconda3/lib/python3.8/site-packages/IPython/core/interactiveshell.py:3165: DtypeWarning: Columns (20,31,32) have mixed types.Specify dtype option on import or set low_memory=False.\n",
      "  has_raised = await self.run_ast_nodes(code_ast.body, cell_name,\n"
     ]
    }
   ],
   "source": [
    "datafile = \"311_Service_Requests_2020.csv\"\n",
    "df = pd.read_csv(datafile)"
   ]
  },
  {
   "cell_type": "code",
   "execution_count": 3,
   "id": "27e3cee4",
   "metadata": {},
   "outputs": [],
   "source": [
    "df_10025 = df[df['Incident Zip'] == 10025.0]"
   ]
  },
  {
   "cell_type": "markdown",
   "id": "1e4d3a26",
   "metadata": {},
   "source": [
    "#### summ_10025 is the total incidents in 10025, illP_10025 is the parking incidents in 10025"
   ]
  },
  {
   "cell_type": "code",
   "execution_count": 4,
   "id": "7a606a7d",
   "metadata": {},
   "outputs": [
    {
     "data": {
      "text/plain": [
       "20978"
      ]
     },
     "execution_count": 4,
     "metadata": {},
     "output_type": "execute_result"
    }
   ],
   "source": [
    "sum_10025 = df_10025.groupby('Complaint Type').size().sum()\n",
    "sum_10025"
   ]
  },
  {
   "cell_type": "code",
   "execution_count": 5,
   "id": "445eb19a",
   "metadata": {},
   "outputs": [
    {
     "data": {
      "text/plain": [
       "792"
      ]
     },
     "execution_count": 5,
     "metadata": {},
     "output_type": "execute_result"
    }
   ],
   "source": [
    "illP_10025 = df_10025[df_10025['Complaint Type'] == \"Illegal Parking\"].groupby('Complaint Type').size()[0]\n",
    "illP_10025"
   ]
  },
  {
   "cell_type": "code",
   "execution_count": 6,
   "id": "93c0a5dc",
   "metadata": {},
   "outputs": [
    {
     "data": {
      "text/plain": [
       "0.03775383735341787"
      ]
     },
     "execution_count": 6,
     "metadata": {},
     "output_type": "execute_result"
    }
   ],
   "source": [
    "fraction_10025 = illP_10025/sum_10025\n",
    "fraction_10025"
   ]
  },
  {
   "cell_type": "markdown",
   "id": "fecb54ab",
   "metadata": {},
   "source": [
    "#### summ_10025 is the total incidents in general, illP_10025 is the parking incidents in general"
   ]
  },
  {
   "cell_type": "code",
   "execution_count": 7,
   "id": "04b1b1e1",
   "metadata": {},
   "outputs": [
    {
     "data": {
      "text/plain": [
       "2587316"
      ]
     },
     "execution_count": 7,
     "metadata": {},
     "output_type": "execute_result"
    }
   ],
   "source": [
    "sum_all = df.groupby('Complaint Type').size().sum()\n",
    "sum_all "
   ]
  },
  {
   "cell_type": "code",
   "execution_count": 8,
   "id": "98eadcfa",
   "metadata": {},
   "outputs": [
    {
     "data": {
      "text/plain": [
       "193721"
      ]
     },
     "execution_count": 8,
     "metadata": {},
     "output_type": "execute_result"
    }
   ],
   "source": [
    "illP_all = df[df['Complaint Type'] == \"Illegal Parking\"].groupby('Complaint Type').size()[0]\n",
    "illP_all"
   ]
  },
  {
   "cell_type": "code",
   "execution_count": 9,
   "id": "12fb14dd",
   "metadata": {},
   "outputs": [
    {
     "data": {
      "text/plain": [
       "0.07487334365033108"
      ]
     },
     "execution_count": 9,
     "metadata": {},
     "output_type": "execute_result"
    }
   ],
   "source": [
    "fraction_all = illP_all/sum_all\n",
    "fraction_all"
   ]
  },
  {
   "cell_type": "markdown",
   "id": "da462dcc",
   "metadata": {},
   "source": [
    "#### parking incidents in 10025 is higher than in general, higher_parking_proportion = True\n",
    "#### parking incidents in 10025 is lower than in general, higher_parking_proportion = False"
   ]
  },
  {
   "cell_type": "code",
   "execution_count": 10,
   "id": "fae6ce0c",
   "metadata": {},
   "outputs": [],
   "source": [
    "if fraction_10025 > fraction_all:\n",
    "    higher_parking_proportion = True\n",
    "else:\n",
    "    higher_parking_proportion = False"
   ]
  },
  {
   "cell_type": "code",
   "execution_count": 11,
   "id": "a1fba997",
   "metadata": {},
   "outputs": [
    {
     "data": {
      "text/plain": [
       "False"
      ]
     },
     "execution_count": 11,
     "metadata": {},
     "output_type": "execute_result"
    }
   ],
   "source": [
    "higher_parking_proportion"
   ]
  },
  {
   "cell_type": "code",
   "execution_count": null,
   "id": "4539daa7",
   "metadata": {},
   "outputs": [],
   "source": []
  }
 ],
 "metadata": {
  "interpreter": {
   "hash": "3b696b4afaba0dbfcb66703051d23e6b1960df67b0021524fa5e05fc1fcdaea1"
  },
  "kernelspec": {
   "display_name": "Python 3",
   "language": "python",
   "name": "python3"
  },
  "language_info": {
   "codemirror_mode": {
    "name": "ipython",
    "version": 3
   },
   "file_extension": ".py",
   "mimetype": "text/x-python",
   "name": "python",
   "nbconvert_exporter": "python",
   "pygments_lexer": "ipython3",
   "version": "3.8.8"
  }
 },
 "nbformat": 4,
 "nbformat_minor": 5
}

{
 "cells": [
  {
   "cell_type": "markdown",
   "id": "c2c08509-9f4c-471d-b9fc-6c212346bc33",
   "metadata": {},
   "source": [
    "### Tools For Analytics\n",
    "#### Call Analysis Project\n",
    "Group 9: Yuwen Huang(yh3413), Linzi Guan(lg3183)"
   ]
  },
  {
   "cell_type": "markdown",
   "id": "5332e3b5-8e38-4b50-9579-afc6c80719a2",
   "metadata": {},
   "source": [
    "1. Load the datafile to a dataframe called df"
   ]
  },
  {
   "cell_type": "code",
   "execution_count": 2,
   "id": "4edcaf36-63dc-4a91-8ddb-a48a3f837412",
   "metadata": {},
   "outputs": [
    {
     "name": "stderr",
     "output_type": "stream",
     "text": [
      "/Users/linziguan/opt/anaconda3/lib/python3.8/site-packages/IPython/core/interactiveshell.py:3437: DtypeWarning: Columns (20,31,32) have mixed types.Specify dtype option on import or set low_memory=False.\n",
      "  exec(code_obj, self.user_global_ns, self.user_ns)\n"
     ]
    }
   ],
   "source": [
    "import pandas as pd\n",
    "import numpy as np\n",
    "df = pd.read_csv(\"311_Service_Requests_2020.csv\")"
   ]
  },
  {
   "cell_type": "markdown",
   "id": "2f3b1727-565b-4bef-8d20-1a4ade76f62d",
   "metadata": {},
   "source": [
    "2. Zip code 10025 was picked by our group and we created a new dataframe called df_10025 from the original dataframe which contains all the complaints with the incident zip code 10025."
   ]
  },
  {
   "cell_type": "code",
   "execution_count": 3,
   "id": "94aafb9a-3d35-4dd3-9eff-a1fd7feab378",
   "metadata": {},
   "outputs": [],
   "source": [
    "#get all the complaints at 10025\n",
    "df_10025 = df[df[\"Incident Zip\"] == 10025.0]"
   ]
  },
  {
   "cell_type": "markdown",
   "id": "18bbbcc8-d11a-4854-8a16-b06dd74ff89e",
   "metadata": {},
   "source": [
    "3. We tried to find the year that each complaint is created by extracting the year out of created data and adding a new column 'year' to df_10025 to represent the year of complaint"
   ]
  },
  {
   "cell_type": "code",
   "execution_count": 4,
   "id": "3564da42-3b9d-4f02-b905-7c26e3a052fe",
   "metadata": {},
   "outputs": [
    {
     "name": "stderr",
     "output_type": "stream",
     "text": [
      "<ipython-input-4-a6c3d3036dd5>:7: SettingWithCopyWarning: \n",
      "A value is trying to be set on a copy of a slice from a DataFrame.\n",
      "Try using .loc[row_indexer,col_indexer] = value instead\n",
      "\n",
      "See the caveats in the documentation: https://pandas.pydata.org/pandas-docs/stable/user_guide/indexing.html#returning-a-view-versus-a-copy\n",
      "  df_10025['year'] = df_10025['Created Date'].apply(get_year)\n"
     ]
    }
   ],
   "source": [
    "#find the year that complaint is created\n",
    "def get_year(x):\n",
    "    from datetime import datetime\n",
    "    format = '%m/%d/%Y %I:%M:%S %p'\n",
    "    date_time_x = datetime.strptime(x, format)\n",
    "    return date_time_x.year\n",
    "df_10025['year'] = df_10025['Created Date'].apply(get_year)"
   ]
  },
  {
   "cell_type": "markdown",
   "id": "05bfa430-86e5-466d-9b5c-5b3722074899",
   "metadata": {},
   "source": [
    "4. We created a new dataframe that contains only complaints of year 2020 called df_10015_2020"
   ]
  },
  {
   "cell_type": "code",
   "execution_count": 5,
   "id": "5a97448f-913c-4728-949d-814c78d10e17",
   "metadata": {},
   "outputs": [],
   "source": [
    "df_10025_2020 = df_10025[df_10025['year'] == 2020]"
   ]
  },
  {
   "cell_type": "markdown",
   "id": "549984a1-615c-49ff-b05b-e00dfc793dda",
   "metadata": {},
   "source": [
    "5. We calculated the number of each complaint type using size() after grouping the dataframe by type and sort in descending order to find the top 10 incidents and stored them into a series called top10."
   ]
  },
  {
   "cell_type": "code",
   "execution_count": 6,
   "id": "42ef0b72-e934-4eb5-9035-b8646bd4a10e",
   "metadata": {},
   "outputs": [
    {
     "data": {
      "text/plain": [
       "Complaint Type\n",
       "Noise - Residential            2952\n",
       "Noise - Street/Sidewalk        2128\n",
       "HEAT/HOT WATER                 1885\n",
       "Noise                          1131\n",
       "Illegal Parking                 792\n",
       "Noise - Vehicle                 787\n",
       "Non-Emergency Police Matter     773\n",
       "Rodent                          691\n",
       "Illegal Fireworks               672\n",
       "UNSANITARY CONDITION            565\n",
       "dtype: int64"
      ]
     },
     "execution_count": 6,
     "metadata": {},
     "output_type": "execute_result"
    }
   ],
   "source": [
    "top10 = df_10025_2020.groupby(\"Complaint Type\").size().sort_values(ascending = False)[:10]\n",
    "top10"
   ]
  },
  {
   "cell_type": "code",
   "execution_count": null,
   "id": "d5a370bf-c870-44fa-b0bb-38b10df697ae",
   "metadata": {},
   "outputs": [],
   "source": []
  }
 ],
 "metadata": {
  "kernelspec": {
   "display_name": "Python 3",
   "language": "python",
   "name": "python3"
  },
  "language_info": {
   "codemirror_mode": {
    "name": "ipython",
    "version": 3
   },
   "file_extension": ".py",
   "mimetype": "text/x-python",
   "name": "python",
   "nbconvert_exporter": "python",
   "pygments_lexer": "ipython3",
   "version": "3.8.8"
  }
 },
 "nbformat": 4,
 "nbformat_minor": 5
}
